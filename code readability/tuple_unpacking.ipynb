{
 "cells": [
  {
   "cell_type": "code",
   "execution_count": 3,
   "id": "56f3aa27",
   "metadata": {},
   "outputs": [],
   "source": [
    "# An alternative to slicing"
   ]
  },
  {
   "cell_type": "code",
   "execution_count": 1,
   "id": "5b60f75f",
   "metadata": {},
   "outputs": [],
   "source": [
    "numbers = [1, 2, 3, 4, 5, 6]"
   ]
  },
  {
   "cell_type": "code",
   "execution_count": 2,
   "id": "a6211d36",
   "metadata": {},
   "outputs": [
    {
     "name": "stdout",
     "output_type": "stream",
     "text": [
      "1 [2, 3, 4, 5] 6\n"
     ]
    }
   ],
   "source": [
    "first, *middle, tail = numbers\n",
    "print(first, middle, tail)"
   ]
  },
  {
   "cell_type": "code",
   "execution_count": 4,
   "id": "8ae05194",
   "metadata": {},
   "outputs": [],
   "source": [
    "# Deep unpacking "
   ]
  },
  {
   "cell_type": "code",
   "execution_count": 8,
   "id": "b1cf4403",
   "metadata": {},
   "outputs": [
    {
     "data": {
      "text/plain": [
       "('red', (1, 2, 3))"
      ]
     },
     "execution_count": 8,
     "metadata": {},
     "output_type": "execute_result"
    }
   ],
   "source": [
    "color, point = (\"red\", (1, 2, 3))\n",
    "# color, point"
   ]
  },
  {
   "cell_type": "code",
   "execution_count": 9,
   "id": "2af93dc8",
   "metadata": {},
   "outputs": [],
   "source": [
    "start_points = [(1, 2), (3, 4), (5, 6)]\n",
    "end_points = [(-1, -2), (-3, 4), (-6, -5)]"
   ]
  },
  {
   "cell_type": "code",
   "execution_count": 12,
   "id": "c847a763",
   "metadata": {},
   "outputs": [
    {
     "name": "stdout",
     "output_type": "stream",
     "text": [
      "Point 1, 2 was negated.\n",
      "Point 1, 2 was negated.\n"
     ]
    }
   ],
   "source": [
    "for start, end in zip(start_points, end_points):\n",
    "    if start[0] == -end[0] and start[1] == -end[1]:\n",
    "        print(f\"Point {start[0]}, {start[1]} was negated.\")\n",
    "\n",
    "# using deep unpacking\n",
    "for (x1, y1), (x2, y2) in zip(start_points, end_points):\n",
    "    if x1 == -x2 and y1 == -y2:\n",
    "        print(f\"Point {x1}, {y1} was negated.\")"
   ]
  },
  {
   "cell_type": "code",
   "execution_count": 16,
   "id": "01653bc9",
   "metadata": {},
   "outputs": [],
   "source": [
    "# items = [1, 2, 3, 4, 2, 1]\n",
    "# for i, (first, last) in enumerate(zip(items, reversed(items))):\n",
    "#     if first != last:\n",
    "#         raise ValueError(f\"Item {i} doesn't match: {first} != {last}\")"
   ]
  },
  {
   "cell_type": "code",
   "execution_count": 17,
   "id": "bb1ffb86",
   "metadata": {},
   "outputs": [],
   "source": [
    "a = ['a', 'b', 'c', 'd', 'e']\n",
    "b = [1, 2, 3, 4, 9]"
   ]
  },
  {
   "cell_type": "code",
   "execution_count": 21,
   "id": "cc99d93a",
   "metadata": {},
   "outputs": [],
   "source": [
    "C1 = a + b"
   ]
  },
  {
   "cell_type": "code",
   "execution_count": 35,
   "id": "95b17476",
   "metadata": {},
   "outputs": [],
   "source": [
    "C2 = []\n",
    "C2.extend(a)\n",
    "C2.extend(b)"
   ]
  },
  {
   "cell_type": "code",
   "execution_count": 36,
   "id": "8f444555",
   "metadata": {},
   "outputs": [
    {
     "data": {
      "text/plain": [
       "['a', 'b', 'c', 'd', 'e', 1, 2, 3, 4, 9]"
      ]
     },
     "execution_count": 36,
     "metadata": {},
     "output_type": "execute_result"
    }
   ],
   "source": [
    "C1"
   ]
  },
  {
   "cell_type": "code",
   "execution_count": 37,
   "id": "2cc59407",
   "metadata": {},
   "outputs": [
    {
     "data": {
      "text/plain": [
       "['a', 'b', 'c', 'd', 'e', 1, 2, 3, 4, 9]"
      ]
     },
     "execution_count": 37,
     "metadata": {},
     "output_type": "execute_result"
    }
   ],
   "source": [
    "C2"
   ]
  },
  {
   "cell_type": "code",
   "execution_count": null,
   "id": "c2942230",
   "metadata": {},
   "outputs": [],
   "source": []
  }
 ],
 "metadata": {
  "kernelspec": {
   "display_name": "Python 3 (ipykernel)",
   "language": "python",
   "name": "python3"
  },
  "language_info": {
   "codemirror_mode": {
    "name": "ipython",
    "version": 3
   },
   "file_extension": ".py",
   "mimetype": "text/x-python",
   "name": "python",
   "nbconvert_exporter": "python",
   "pygments_lexer": "ipython3",
   "version": "3.7.6"
  },
  "toc": {
   "base_numbering": 1,
   "nav_menu": {},
   "number_sections": true,
   "sideBar": true,
   "skip_h1_title": false,
   "title_cell": "Table of Contents",
   "title_sidebar": "Contents",
   "toc_cell": false,
   "toc_position": {},
   "toc_section_display": true,
   "toc_window_display": false
  }
 },
 "nbformat": 4,
 "nbformat_minor": 5
}
